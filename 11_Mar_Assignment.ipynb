{
 "cells": [
  {
   "cell_type": "code",
   "execution_count": null,
   "metadata": {},
   "outputs": [],
   "source": [
    "Q1: What is the difference between a t-test and a z-test? Provide an example scenario where you would use each type of test."
   ]
  },
  {
   "cell_type": "markdown",
   "metadata": {},
   "source": [
    "t-test is used when the population variance is unknown \n",
    "z-test is used when the population variance is known.\n",
    "\n",
    "scenario where a t-test might be used :\n",
    "when a researcher wants to compare the mean height of two populations of college students, and the population variance is unknown.\n",
    "\n",
    "A scenario where a z-test might be used:\n",
    "when the population variance is known, and the researcher wants to test a hypothesis about a population mean. "
   ]
  },
  {
   "cell_type": "code",
   "execution_count": null,
   "metadata": {},
   "outputs": [],
   "source": [
    "Q2: Differentiate between one-tailed and two-tailed tests."
   ]
  },
  {
   "cell_type": "markdown",
   "metadata": {},
   "source": [
    "**one-tailed**\n",
    "\n",
    "A one-tailed test is a hypothesis test where the null hypothesis is rejected if the test statistic falls into either the upper or lower tail of the sampling distribution\n",
    "\n",
    "                                                    or\n",
    "One-tailed tests are appropriate when there is strong evidence or a priori knowledge that the effect of interest will only be in one direction.\n",
    "\n",
    "**two-tailed**\n",
    "\n",
    "A two-tailed test is a hypothesis test where the null hypothesis is rejected if the test statistic falls into either the upper or lower tail of the sampling distribution\n",
    "\n",
    "                                                    or\n",
    "two-tailed tests are appropriate when the direction of the effect of interest is not known in advance. "
   ]
  },
  {
   "cell_type": "markdown",
   "metadata": {},
   "source": [
    "Q3: Explain the concept of Type 1 and Type 2 errors in hypothesis testing. Provide an example scenario for\n",
    "each type of error."
   ]
  },
  {
   "cell_type": "markdown",
   "metadata": {},
   "source": [
    "**Type 1 error**\n",
    "\n",
    "Type 1 error occurs when the null hypothesis is rejected even though it is actually true. \n",
    "\n",
    "This means that the test fails to detect a significant effect  when in reality there is not. \n",
    "\n",
    "A pharmaceutical company is testing a new drug to reduce the symptoms of a certain disease. The null hypothesis is that the drug has no effect on the symptoms, and the alternative hypothesis is that the drug reduces the symptoms. If the company sets the significance level at 0.05 and conducts the test, there is a 5% chance of making a Type 1 error, which means that the company may incorrectly conclude that the drug is effective when it is not.\n",
    "\n",
    "**Type 2 error**\n",
    "\n",
    "Type 2 error occurs when the null hypothesis is not rejected even though it is actually false. \n",
    "This means that the test fails to detect a significant effect when there really is one\n",
    "\n",
    "A company is testing a new quality control system to reduce the number of defective products. The null hypothesis is that the new system has no effect on the number of defects, and the alternative hypothesis is that the new system reduces the number of defects. If the company sets the significance level at 0.05 and conducts the test, there is a chance that the new system is actually effective in reducing the number of defects, but the test fails to reject the null hypothesis. This is a Type 2 error."
   ]
  },
  {
   "cell_type": "markdown",
   "metadata": {},
   "source": [
    "Q4: Explain Bayes's theorem with an example."
   ]
  },
  {
   "cell_type": "markdown",
   "metadata": {},
   "source": [
    " It helps us to calculate the probability of an event occurring based on prior knowledge and new information.\n",
    "\n",
    "The formula for Bayes's theorem is:\n",
    "\n",
    "P(A|B) = P(B|A) * P(A) / P(B)\n",
    "\n",
    "Suppose a rare disease affects 1 in 100,000 people in the population. A diagnostic test for the disease is 99% accurate, meaning that it correctly identifies 99% of people who have the disease (true positives) and 1% of people who do not have the disease (false positives).\n",
    "\n",
    "Let A be the event that the person has the disease, and B be the event that the test is positive.\n",
    "\n",
    "P(A) = 0.00001 (prior probability of having the disease)\n",
    "P(B|A) = 0.99 (probability of a true positive)\n",
    "P(B|not A) = 0.01 (probability of a false positive)\n",
    "P(not A) = 0.99999 (complement of the prior probability of having the disease)\n",
    "\n",
    "We can use the formula:\n",
    "\n",
    "P(A|B) = P(B|A) * P(A) / [P(B|A) * P(A) + P(B|not A) * P(not A)]\n",
    "\n",
    "Plugging in the values, we get:\n",
    "\n",
    "P(A|B) = 0.99 * 0.00001 / [0.99 * 0.00001 + 0.01 * 0.99999]\n",
    "\n",
    "Simplifying the equation, we get:\n",
    "\n",
    "P(A|B) = 0.00099 or 0.099%"
   ]
  },
  {
   "cell_type": "markdown",
   "metadata": {},
   "source": [
    "Q5: What is a confidence interval? How to calculate the confidence interval, explain with an example."
   ]
  },
  {
   "cell_type": "markdown",
   "metadata": {},
   "source": [
    "A confidence interval is a statistical range that is likely to contain the true value of a population parameter, such as the mean, with a certain level of confidence\n",
    "\n",
    "Confidence interval = sample mean ± (critical value x standard error)\n",
    "\n",
    "For example, suppose we want to estimate the average height of all students in a school. We take a random sample of 100 students and calculate the sample mean height to be 65 inches with a standard deviation of 3 inches. We can construct a 95% confidence interval for the true population mean height using the formula: \n",
    "\n",
    "confidence interval 95%= 0.95. \n",
    "We also know that our sample size is 100, \n",
    "sample mean height is 65 inches, and \n",
    "sample standard deviation is 3 inches.\n",
    "degrees of freedom (since n-1 = 100-1 = 99) 99\n",
    "the critical value is approximately 1.984.\n",
    "\n",
    "Next, we need to calculate the standard error:\n",
    "\n",
    "Standard error = standard deviation / sqrt(sample size)\n",
    "Standard error = 3 / sqrt(100)\n",
    "Standard error = 0.3\n",
    "\n",
    "Finally, we can substitute all these values into the formula to get our confidence interval:\n",
    "\n",
    "Confidence interval = 65 ± (1.984 x 0.3)\n",
    "Confidence interval = 65 ± 0.5952"
   ]
  },
  {
   "cell_type": "markdown",
   "metadata": {},
   "source": [
    "Q6. Use Bayes' Theorem to calculate the probability of an event occurring given prior knowledge of the\n",
    "event's probability and new evidence. Provide a sample problem and solution."
   ]
  },
  {
   "cell_type": "markdown",
   "metadata": {},
   "source": [
    "Problem:\n",
    "Suppose a company produces two types of products, A and B, and they have a defect rate of 3% and 5%, respectively. A quality control inspector selects a product at random and finds that it is defective. What is the probability that the product is type A?\n",
    "\n",
    "Solution:\n",
    "Let's define our events as follows:\n",
    "A: The product is of type A\n",
    "B: The product is of type B\n",
    "D: The product is defective\n",
    "\n",
    "We want to find the probability of A given that D has occurred, which can be written as P(A|D). Using Bayes' theorem, we have:\n",
    "\n",
    "P(A|D) = P(D|A) * P(A) / P(D)\n",
    "\n",
    "We know that P(A) = 0.5 since there are two types of products produced with equal probabilities. We also know that P(D|A) = 0.03 and P(D|B) = 0.05, which means the probability of a defective product given it's type A is 0.03 and given it's type B is 0.05.\n",
    "\n",
    "To find P(D), we can use the law of total probability:\n",
    "\n",
    "P(D) = P(D|A) * P(A) + P(D|B) * P(B)\n",
    "P(D) = 0.03 * 0.5 + 0.05 * 0.5\n",
    "P(D) = 0.04\n",
    "\n",
    "Now we can substitute all the values into Bayes' theorem to get:\n",
    "\n",
    "P(A|D) = 0.03 * 0.5 / 0.04\n",
    "P(A|D) = 0.375\n",
    "\n",
    "Therefore, the probability that the product is type A given that it is defective is 0.375, or 37.5%."
   ]
  },
  {
   "cell_type": "markdown",
   "metadata": {},
   "source": [
    "Q7. Calculate the 95% confidence interval for a sample of data with a mean of 50 and a standard deviation\n",
    "of 5. Interpret the results."
   ]
  },
  {
   "cell_type": "code",
   "execution_count": null,
   "metadata": {},
   "outputs": [],
   "source": [
    "confidence interval 95%= 0.95. \n",
    "assume sample size=1\n",
    "sample mean is 50 \n",
    "sample standard deviation is 5 \n",
    "degrees of freedom (since n-1 = 100-1 = 99) 99\n",
    "the critical value is approximately 1.984.\n",
    "\n",
    "Next, we need to calculate the standard error:\n",
    "\n",
    "Standard error = standard deviation / sqrt(sample size)\n",
    "Standard error = 5 / sqrt(1)\n",
    "Standard error = 5\n",
    "\n",
    "Finally, we can substitute all these values into the formula to get our confidence interval:\n",
    "\n",
    "Confidence interval = 50 + (1.984 x 5) = 59.92\n",
    "Confidence interval = 50 - (1.984 x 5) = 40.08"
   ]
  },
  {
   "cell_type": "markdown",
   "metadata": {},
   "source": [
    "Q8. What is the margin of error in a confidence interval? How does sample size affect the margin of error?\n",
    "Provide an example of a scenario where a larger sample size would result in a smaller margin of error."
   ]
  },
  {
   "cell_type": "markdown",
   "metadata": {},
   "source": [
    "**margin of error in a confidence interval**\n",
    "\n",
    "The margin of error in a confidence interval is the amount of error or uncertainty that is acceptable in the estimation of a population parameter\n",
    "\n",
    "**How does sample size affect the margin of error?**\n",
    "\n",
    "A larger sample size generally results in a smaller margin of error because the larger sample size reduces the standard error of the sample mean.\n",
    "\n",
    "**For example:**\n",
    "\n",
    "let's say a company wants to estimate the average age of its customers to within 2 years with 95% confidence. \n",
    "They take a random sample of 50 customers and calculate the sample mean age to be 40 years with a standard deviation of 5 years. \n",
    "Using the formula for the margin of error, they calculate the margin of error to be approximately 1.31 years.\n",
    "\n",
    "Now , let's say the company decides to increase the sample size to 200 customers while keeping the same level of confidence and standard deviation. \n",
    "Using the same formula, they calculate the margin of error to be approximately 0.66 years. \n",
    "This is half the margin of error compared to the smaller sample size, indicating that a larger sample size reduces the margin of error."
   ]
  },
  {
   "cell_type": "markdown",
   "metadata": {},
   "source": [
    "Q9. Calculate the z-score for a data point with a value of 75, a population mean of 70, and a population\n",
    "standard deviation of 5. Interpret the results."
   ]
  },
  {
   "cell_type": "markdown",
   "metadata": {},
   "source": [
    "To calculate the z-score, we can use the formula:\n",
    "\n",
    "z = (x - μ) / σ\n",
    "\n",
    "where x is the data point value, μ is the population mean, and σ is the population standard deviation.\n",
    "\n",
    "Substituting the given values, we get:\n",
    "\n",
    "z = (75 - 70) / 5\n",
    "z = 1\n",
    "\n",
    "This means that the data point of 75 is one standard deviation above the population mean. A z-score of 1 indicates that the data point is above the mean by a distance of one standard deviation."
   ]
  },
  {
   "cell_type": "markdown",
   "metadata": {},
   "source": [
    "Q10. In a study of the effectiveness of a new weight loss drug, a sample of 50 participants lost an average\n",
    "of 6 pounds with a standard deviation of 2.5 pounds. Conduct a hypothesis test to determine if the drug is\n",
    "significantly effective at a 95% confidence level using a t-test."
   ]
  },
  {
   "cell_type": "markdown",
   "metadata": {},
   "source": [
    "Null hypothesis (H0): The weight loss drug is not significantly effective, and the sample mean weight loss is not different from zero.\n",
    "\n",
    "Alternative hypothesis (Ha): The weight loss drug is significantly effective, and the sample mean weight loss is different from zero.\n",
    "\n",
    "The calculated t-value can be found using the formula:\n",
    "\n",
    "t = (x̄ - μ) / (s / √n)\n",
    "\n",
    "Substituting the given values, we get:\n",
    "\n",
    "t = (6 - 0) / (2.5 / √50)\n",
    "t = 13.42\n",
    "\n",
    "degrees of freedom of 49 (n - 1) \n",
    "significance level of 0.05\n",
    "critical t-value range is ±2.009.\n",
    "\n",
    "we can reject the null hypothesis"
   ]
  },
  {
   "cell_type": "markdown",
   "metadata": {},
   "source": [
    "Q11. In a survey of 500 people, 65% reported being satisfied with their current job. Calculate the 95%\n",
    "confidence interval for the true proportion of people who are satisfied with their job."
   ]
  },
  {
   "cell_type": "code",
   "execution_count": null,
   "metadata": {},
   "outputs": [],
   "source": [
    "survey of 500 people\n",
    "sample propotion=65%=0.65\n",
    "CI=95%=0.95\n",
    "significance level of 0.05\n",
    "z-score of 1.96\n",
    "\n",
    "we can use the following formula:\n",
    "\n",
    "CI = p ± z*(sqrt(p*(1-p)/n))\n",
    "\n",
    "Substituting the given values, we get:\n",
    "\n",
    "CI = 0.65 ± 1.96*(sqrt(0.65*(1-0.65)/500))\n",
    "\n",
    "CI = 0.65 ± 0.045\n",
    "\n",
    "CI = (0.605, 0.695)\n"
   ]
  },
  {
   "cell_type": "markdown",
   "metadata": {},
   "source": [
    "Q12. A researcher is testing the effectiveness of two different teaching methods on student performance.\n",
    "Sample A has a mean score of 85 with a standard deviation of 6, while sample B has a mean score of 82\n",
    "with a standard deviation of 5. Conduct a hypothesis test to determine if the two teaching methods have a\n",
    "significant difference in student performance using a t-test with a significance level of 0.01."
   ]
  },
  {
   "cell_type": "markdown",
   "metadata": {},
   "source": [
    "Using the given data:\n",
    "\n",
    "Sample A: n1 = unknown, x1 = 85, s1 = 6\n",
    "\n",
    "Sample B: n2 = unknown, x2 = 82, s2 = 5\n",
    "\n",
    "h0=method a is better\n",
    "h1=method a is not  better\n",
    "\n",
    "\n",
    "Assuming unequal variances, the degrees of freedom for the t-distribution are calculated as:\n",
    "\n",
    "df = [(s1^2/n1 + s2^2/n2)^2] / [((s1^2/n1)^2)/(n1-1) + ((s2^2/n2)^2)/(n2-1)]\n",
    "\n",
    "Substituting the values:\n",
    "\n",
    "df = [(6^2/n1 + 5^2/n2)^2] / [((6^2/n1)^2)/(n1-1) + ((5^2/n2)^2)/(n2-1)]\n",
    "\n",
    "Solving for df using trial and error, we get df = 75.98, which we can round down to 75 for simplicity.\n",
    "\n",
    "Using a significance level of 0.01 and 75 degrees of freedom, the critical t-value is ±2.64 (calculated using a t-table or statistical software).\n",
    "\n",
    "The test statistic is calculated as:\n",
    "\n",
    "t = (85 - 82) / sqrt[(6^2/n1) + (5^2/n2)]\n",
    "\n",
    "We do not know the sample sizes, but we can assume a conservative scenario where n1 = n2 = 50.\n",
    "\n",
    "t = (85 - 82) / sqrt[(6^2/50) + (5^2/50)]\n",
    "t = 3 / 1.72\n",
    "t = 1.74\n",
    "\n",
    "Since the calculated t-value (1.74) is less than the critical t-value (2.64), we fail to reject the null hypothesis\n",
    "\n",
    "This means that we do not have sufficient evidence to conclude that there is a significant difference in student performance between the two teaching methods at a significance level of 0.01."
   ]
  },
  {
   "cell_type": "markdown",
   "metadata": {},
   "source": [
    "Q13. A population has a mean of 60 and a standard deviation of 8. A sample of 50 observations has a mean\n",
    "of 65. Calculate the 90% confidence interval for the true population mean."
   ]
  },
  {
   "cell_type": "markdown",
   "metadata": {},
   "source": [
    "To calculate the 90% confidence interval for the true population mean, we can use the formula:\n",
    "\n",
    "Confidence interval = sample mean ± (critical value) x (standard error)\n",
    "\n",
    "First, let's calculate the standard error:\n",
    "\n",
    "standard error = 8 / sqrt(50) = 1.13\n",
    "\n",
    "Next, we need to find the critical value for the 90% confidence level. We can use a t-distribution with 49 degrees of freedom (since we have a sample size of 50) and a significance level of 0.05 (since we want a two-tailed test). Using a t-table or calculator, we find the critical value to be 1.676.\n",
    "\n",
    "Now we can calculate the confidence interval:\n",
    "\n",
    "Confidence interval = 65 ± 1.676 x 1.13 = [62.23, 67.77]\n",
    "\n",
    "Therefore, we can be 90% confident that the true population mean falls within the interval of 62.23 to 67.77."
   ]
  },
  {
   "cell_type": "markdown",
   "metadata": {},
   "source": [
    "Q14. In a study of the effects of caffeine on reaction time, a sample of 30 participants had an average\n",
    "reaction time of 0.25 seconds with a standard deviation of 0.05 seconds. Conduct a hypothesis test to\n",
    "determine if the caffeine has a significant effect on reaction time at a 90% confidence level using a t-test."
   ]
  },
  {
   "cell_type": "markdown",
   "metadata": {},
   "source": [
    "Null hypothesis (H0): The mean reaction time with caffeine is equal to the mean reaction time without caffeine.\n",
    "Alternative hypothesis (H1): The mean reaction time with caffeine is significantly different from the mean reaction time without caffeine.\n",
    "\n",
    "We can use a two-tailed t-test \n",
    "\n",
    "Given that the sample size is small (n = 30) \n",
    "the population standard deviation is unknown \n",
    "we can use a t-distribution to calculate the test statistic and p-value.\n",
    "\n",
    "Using a significance level of 0.10 (90% confidence level), \n",
    "the critical value for a two-tailed t-test with 29 degrees of freedom is ±1.699.\n",
    "\n",
    "First, we can calculate the t-statistic as:\n",
    "\n",
    "t = (x̄ - μ) / (s / √n)\n",
    "\n",
    "where x̄ is the sample mean, μ is the hypothesized population mean under the null hypothesis, s is the sample standard deviation, and n is the sample size.\n",
    "\n",
    "Plugging in the values, we get:\n",
    "\n",
    "t = (0.25 - 0) / (0.05 / √30) = 5.48\n",
    "\n",
    "Next, we can calculate the p-value using a t-distribution with 29 degrees of freedom and a two-tailed test. Using a t-table or calculator, we find that the p-value is less than 0.001.\n",
    "\n",
    "Since the p-value is less than the significance level of 0.10, we reject the null hypothesis and conclude that there is a significant difference in reaction time with and without caffeine at a 90% confidence level.\n",
    "\n",
    "Therefore, we can conclude that caffeine has a significant effect on reaction time."
   ]
  }
 ],
 "metadata": {
  "kernelspec": {
   "display_name": "Python 3",
   "language": "python",
   "name": "python3"
  },
  "language_info": {
   "codemirror_mode": {
    "name": "ipython",
    "version": 3
   },
   "file_extension": ".py",
   "mimetype": "text/x-python",
   "name": "python",
   "nbconvert_exporter": "python",
   "pygments_lexer": "ipython3",
   "version": "3.6.5"
  }
 },
 "nbformat": 4,
 "nbformat_minor": 2
}
